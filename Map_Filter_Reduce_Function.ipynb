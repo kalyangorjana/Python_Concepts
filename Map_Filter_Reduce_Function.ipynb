{
 "cells": [
  {
   "cell_type": "code",
   "execution_count": null,
   "id": "401de0ce-c523-4001-9b53-4069928011dc",
   "metadata": {},
   "outputs": [],
   "source": [
    "# map() Functions:\n",
    "# definition:\n",
    "# Map in Python is a function that works as an iterator to return a result after applying a function to every item \n",
    "# of an iterable (tuple, lists, etc.). It is used when you want to apply a single transformation function to all \n",
    "# the iterable elements."
   ]
  },
  {
   "cell_type": "code",
   "execution_count": null,
   "id": "e6565cfb-6079-42c7-a306-18e493a19eca",
   "metadata": {},
   "outputs": [],
   "source": [
    "# Problem Statement\n",
    "# when you want to add n number with all list items"
   ]
  },
  {
   "cell_type": "code",
   "execution_count": 1,
   "id": "1a81fc89-0830-473b-892b-b76f58a815e2",
   "metadata": {},
   "outputs": [
    {
     "name": "stdout",
     "output_type": "stream",
     "text": [
      "[21, 31, 44, 63, 74, 74]\n"
     ]
    }
   ],
   "source": [
    "# The normal or by using for loop\n",
    "l1 = [11, 21, 34, 53, 64, 64]\n",
    "n = 10\n",
    "l2 = []\n",
    "for i in l1:\n",
    "    l2.append(i + n)\n",
    "print(l2)"
   ]
  },
  {
   "cell_type": "code",
   "execution_count": null,
   "id": "884867c8-add4-4c64-9d1c-1077daf89f3f",
   "metadata": {},
   "outputs": [],
   "source": [
    "# The solution with map function"
   ]
  },
  {
   "cell_type": "code",
   "execution_count": 15,
   "id": "4788966b-6a67-4deb-a3bd-c24d74f9e1bb",
   "metadata": {},
   "outputs": [],
   "source": [
    "l1 = [11, 21, 34, 53, 64, 64]"
   ]
  },
  {
   "cell_type": "code",
   "execution_count": 16,
   "id": "330baf23-e6b4-43f1-95cf-4f63c410fdaa",
   "metadata": {},
   "outputs": [
    {
     "data": {
      "text/plain": [
       "[21, 31, 44, 63, 74, 74]"
      ]
     },
     "execution_count": 16,
     "metadata": {},
     "output_type": "execute_result"
    }
   ],
   "source": [
    "def test(a):\n",
    "    return a + 10\n",
    "list(map(test,l1))"
   ]
  },
  {
   "cell_type": "code",
   "execution_count": 17,
   "id": "dfc12e6b-9fdc-4757-a55d-ce4d6192db49",
   "metadata": {},
   "outputs": [
    {
     "data": {
      "text/plain": [
       "[21, 31, 44, 63, 74, 74]"
      ]
     },
     "execution_count": 17,
     "metadata": {},
     "output_type": "execute_result"
    }
   ],
   "source": [
    "# The Solution with map and lambda function\n",
    "list(map(lambda a: a + 10,l1))"
   ]
  },
  {
   "cell_type": "code",
   "execution_count": null,
   "id": "2023b97a-bcd4-4eab-8afe-c0d01f6f968e",
   "metadata": {},
   "outputs": [],
   "source": [
    "# problem Statement\n",
    "# Convert list items to uppercase"
   ]
  },
  {
   "cell_type": "code",
   "execution_count": 18,
   "id": "5e7363e7-5606-4e67-9e83-51b2ff9efd1b",
   "metadata": {},
   "outputs": [],
   "source": [
    "li = [\"kalyan\", \"sai\", \"ganesh\", \"praveen\"]"
   ]
  },
  {
   "cell_type": "code",
   "execution_count": 19,
   "id": "bb0b694d-5ff7-460c-8001-dff9d075ab3c",
   "metadata": {},
   "outputs": [
    {
     "data": {
      "text/plain": [
       "['Kalyan', 'Sai', 'Ganesh', 'Praveen']"
      ]
     },
     "execution_count": 19,
     "metadata": {},
     "output_type": "execute_result"
    }
   ],
   "source": [
    "list(map(lambda a : a.capitalize(),li))"
   ]
  },
  {
   "cell_type": "code",
   "execution_count": 20,
   "id": "603dbcdd-6830-48c5-8d51-3b55e680388e",
   "metadata": {},
   "outputs": [
    {
     "data": {
      "text/plain": [
       "['KALYAN', 'SAI', 'GANESH', 'PRAVEEN']"
      ]
     },
     "execution_count": 20,
     "metadata": {},
     "output_type": "execute_result"
    }
   ],
   "source": [
    "list(map(lambda a : a.upper(),li))"
   ]
  },
  {
   "cell_type": "code",
   "execution_count": 1,
   "id": "c2f91773-cff6-4329-aebb-cbc63955f37d",
   "metadata": {},
   "outputs": [],
   "source": [
    "# Find the length of the list items\n",
    "li = [\"kalyan\", \"sai\", \"ganesh\", \"praveen\"]"
   ]
  },
  {
   "cell_type": "code",
   "execution_count": 2,
   "id": "1661928c-654a-4174-94ed-9a62a5dba359",
   "metadata": {},
   "outputs": [
    {
     "data": {
      "text/plain": [
       "[6, 3, 6, 7]"
      ]
     },
     "execution_count": 2,
     "metadata": {},
     "output_type": "execute_result"
    }
   ],
   "source": [
    "list(map(lambda a:len(a), li))"
   ]
  },
  {
   "cell_type": "code",
   "execution_count": null,
   "id": "a917dfd5-041e-402d-9a4f-e7720aa9ac7e",
   "metadata": {},
   "outputs": [],
   "source": [
    "#####################\n",
    "###Filter Function###\n",
    "#####################\n",
    "#Defenition\n",
    "# Python's filter() is a built-in function that allows you to process an iterable and extract those \n",
    "# items that satisfy a given condition. This process is commonly known as a filtering operation."
   ]
  },
  {
   "cell_type": "code",
   "execution_count": 3,
   "id": "1d4caf8c-db88-4a17-9d0f-c240b74e2fd1",
   "metadata": {},
   "outputs": [],
   "source": [
    "# Print all even numbers functions form the list\n",
    "li = [35,65,78,64,33,56,77]"
   ]
  },
  {
   "cell_type": "code",
   "execution_count": 4,
   "id": "b5ea9a20-1968-4483-a5cb-2bde61808056",
   "metadata": {},
   "outputs": [
    {
     "name": "stdout",
     "output_type": "stream",
     "text": [
      "[78, 64, 56]\n"
     ]
    }
   ],
   "source": [
    "# by using for loop\n",
    "li1 = []\n",
    "for i in li:\n",
    "    if i%2 == 0:\n",
    "        li1.append(i)\n",
    "print(li1)"
   ]
  },
  {
   "cell_type": "code",
   "execution_count": 5,
   "id": "1303c1fe-07f1-4720-8536-c4eef484ae1b",
   "metadata": {},
   "outputs": [
    {
     "data": {
      "text/plain": [
       "[78, 64, 56]"
      ]
     },
     "execution_count": 5,
     "metadata": {},
     "output_type": "execute_result"
    }
   ],
   "source": [
    "# by using list camprehenstion\n",
    "[i for i in li if i%2==0]"
   ]
  },
  {
   "cell_type": "code",
   "execution_count": 8,
   "id": "3d85d61b-c056-4a3f-9890-d2488f2e690e",
   "metadata": {},
   "outputs": [],
   "source": [
    "# by using lambda function\n",
    "a = lambda a : a if a%2==0 else None"
   ]
  },
  {
   "cell_type": "code",
   "execution_count": 9,
   "id": "eb9c2535-60cd-43ae-8ad3-89b9a75d878f",
   "metadata": {},
   "outputs": [
    {
     "data": {
      "text/plain": [
       "[None, None, 78, 64, None, 56, None]"
      ]
     },
     "execution_count": 9,
     "metadata": {},
     "output_type": "execute_result"
    }
   ],
   "source": [
    "# but we cannot use the map function because it map to every item in the list\n",
    "list(map(a,li))"
   ]
  },
  {
   "cell_type": "code",
   "execution_count": 10,
   "id": "027c6a1c-8dcf-4f36-a678-0e1d1d829940",
   "metadata": {},
   "outputs": [
    {
     "data": {
      "text/plain": [
       "[78, 64, 56]"
      ]
     },
     "execution_count": 10,
     "metadata": {},
     "output_type": "execute_result"
    }
   ],
   "source": [
    "# By using filer function we achive this problem\n",
    "list(filter(a,li))"
   ]
  },
  {
   "cell_type": "code",
   "execution_count": 11,
   "id": "072045f8-e176-452f-8081-68f2229dcf0d",
   "metadata": {},
   "outputs": [
    {
     "data": {
      "text/plain": [
       "[78, 64, 56]"
      ]
     },
     "execution_count": 11,
     "metadata": {},
     "output_type": "execute_result"
    }
   ],
   "source": [
    "# with normal funtion\n",
    "def test4(a):\n",
    "    if a%2==0:\n",
    "        return True\n",
    "    else:\n",
    "        return False\n",
    "list(filter(a,li))"
   ]
  },
  {
   "cell_type": "code",
   "execution_count": 13,
   "id": "6bd8a395-0248-4000-a309-58ceae0117ab",
   "metadata": {},
   "outputs": [],
   "source": [
    "#####################\n",
    "###Reduce Function###\n",
    "#####################\n",
    "#Defenition\n",
    "# Python's reduce() is a function that implements a mathematical technique called folding or reduction. \n",
    "# reduce() is useful when you need to apply a function to an iterable and reduce it to a single cumulative value."
   ]
  },
  {
   "cell_type": "code",
   "execution_count": null,
   "id": "e5ec9be0-cd2e-4e12-a6d3-72608504b50f",
   "metadata": {},
   "outputs": [],
   "source": [
    "# we can using extrenal funtion, for loop and List comprehenstion"
   ]
  },
  {
   "cell_type": "code",
   "execution_count": 24,
   "id": "d8357fba-b162-4465-954d-35c0ea7f1a39",
   "metadata": {},
   "outputs": [],
   "source": [
    "li3 = [2,4,3,1,2,4]"
   ]
  },
  {
   "cell_type": "code",
   "execution_count": 25,
   "id": "f6c10e33-e8bc-430f-bbfe-90f09a4e5774",
   "metadata": {},
   "outputs": [
    {
     "data": {
      "text/plain": [
       "192"
      ]
     },
     "execution_count": 25,
     "metadata": {},
     "output_type": "execute_result"
    }
   ],
   "source": [
    "# to get the multiplication of the entire list\n",
    "# by using reduce() fuction\n",
    "from functools import reduce\n",
    "reduce(lambda a,b:a*b,li3)"
   ]
  },
  {
   "cell_type": "code",
   "execution_count": 26,
   "id": "90dba342-1109-4924-9646-672c4d020be0",
   "metadata": {},
   "outputs": [
    {
     "ename": "TypeError",
     "evalue": "<lambda>() missing 1 required positional argument: 'c'",
     "output_type": "error",
     "traceback": [
      "\u001b[0;31m---------------------------------------------------------------------------\u001b[0m",
      "\u001b[0;31mTypeError\u001b[0m                                 Traceback (most recent call last)",
      "Cell \u001b[0;32mIn [26], line 1\u001b[0m\n\u001b[0;32m----> 1\u001b[0m \u001b[43mreduce\u001b[49m\u001b[43m(\u001b[49m\u001b[38;5;28;43;01mlambda\u001b[39;49;00m\u001b[43m \u001b[49m\u001b[43ma\u001b[49m\u001b[43m,\u001b[49m\u001b[43mb\u001b[49m\u001b[43m,\u001b[49m\u001b[43mc\u001b[49m\u001b[43m:\u001b[49m\u001b[43ma\u001b[49m\u001b[38;5;241;43m*\u001b[39;49m\u001b[43mb\u001b[49m\u001b[38;5;241;43m*\u001b[39;49m\u001b[43mc\u001b[49m\u001b[43m,\u001b[49m\u001b[43mli3\u001b[49m\u001b[43m)\u001b[49m\n",
      "\u001b[0;31mTypeError\u001b[0m: <lambda>() missing 1 required positional argument: 'c'"
     ]
    }
   ],
   "source": [
    "# limitation for reduce on paremeter should be 2 not more\n",
    "reduce(lambda a,b,c:a*b*c,li3)"
   ]
  },
  {
   "cell_type": "code",
   "execution_count": 29,
   "id": "7e6b7f16-c115-425d-ab64-db8c98447eb2",
   "metadata": {},
   "outputs": [
    {
     "data": {
      "text/plain": [
       "3"
      ]
     },
     "execution_count": 29,
     "metadata": {},
     "output_type": "execute_result"
    }
   ],
   "source": [
    "li = [3]\n",
    "reduce(lambda a,b:a*b,li)"
   ]
  },
  {
   "cell_type": "code",
   "execution_count": 42,
   "id": "7f9534cd-76e3-4160-87a6-c83d17f69e48",
   "metadata": {},
   "outputs": [],
   "source": [
    "# Doc string\n",
    "# notation giving to the user -> noation\n",
    "# signatature of the funtion\n",
    "## there are the indication not mandatory inputs or outputs\n",
    "# we can also allows to mention the default value\n",
    "\n",
    "def test4(a :int,b, c:int = 123) -> int:\n",
    "    ''' this is mu test4 function'''\n",
    "    return a + b + str(c)"
   ]
  },
  {
   "cell_type": "code",
   "execution_count": 43,
   "id": "4d6a89a1-10c8-478e-8a33-ca82e94a9427",
   "metadata": {},
   "outputs": [
    {
     "data": {
      "text/plain": [
       "'kalyanGorjana123'"
      ]
     },
     "execution_count": 43,
     "metadata": {},
     "output_type": "execute_result"
    }
   ],
   "source": [
    "test4(\"kalyan\",\"Gorjana\")"
   ]
  },
  {
   "cell_type": "code",
   "execution_count": null,
   "id": "003f51f4-0f0f-43e4-9a6d-7aa66028611a",
   "metadata": {},
   "outputs": [],
   "source": []
  }
 ],
 "metadata": {
  "kernelspec": {
   "display_name": "Python 3 (ipykernel)",
   "language": "python",
   "name": "python3"
  },
  "language_info": {
   "codemirror_mode": {
    "name": "ipython",
    "version": 3
   },
   "file_extension": ".py",
   "mimetype": "text/x-python",
   "name": "python",
   "nbconvert_exporter": "python",
   "pygments_lexer": "ipython3",
   "version": "3.10.6"
  }
 },
 "nbformat": 4,
 "nbformat_minor": 5
}
