{
 "cells": [
  {
   "cell_type": "code",
   "execution_count": null,
   "id": "fa3b74f5-2004-416e-a813-b372c59a223e",
   "metadata": {},
   "outputs": [],
   "source": [
    "# PyInputPlus is a Python module used for taking inputs with additional validation features. PyInputPlus will keep asking \n",
    "# the user for text until they enter valid input."
   ]
  },
  {
   "cell_type": "code",
   "execution_count": 2,
   "id": "6836845f-399f-46cf-882c-f84dc67951b8",
   "metadata": {},
   "outputs": [],
   "source": [
    "import pyinputplus as pyip"
   ]
  },
  {
   "cell_type": "code",
   "execution_count": null,
   "id": "6af2fa65-4719-412e-9a43-fa96668c56cc",
   "metadata": {},
   "outputs": [],
   "source": [
    "# intputStr()\n",
    "# block : Wheather your are allow to enter blank value or not\n",
    "# blockRegexes: it will block mention charcters from the input giving by the user\n",
    "inp = pyip.inputStr(\"Enter the Value\", blockRegexes = 'aeiou', limit = 3)\n",
    "print(inp)"
   ]
  },
  {
   "cell_type": "code",
   "execution_count": 7,
   "id": "dd22a8f6-871e-41ea-a1a9-2e56d9227a82",
   "metadata": {},
   "outputs": [
    {
     "name": "stdout",
     "output_type": "stream",
     "text": [
      "Enter the value"
     ]
    },
    {
     "name": "stdin",
     "output_type": "stream",
     "text": [
      " we\n"
     ]
    },
    {
     "name": "stdout",
     "output_type": "stream",
     "text": [
      "'we' is not an integer.\n",
      "Enter the value"
     ]
    },
    {
     "name": "stdin",
     "output_type": "stream",
     "text": [
      " we\n"
     ]
    },
    {
     "name": "stdout",
     "output_type": "stream",
     "text": [
      "'we' is not an integer.\n",
      "Enter the value"
     ]
    },
    {
     "name": "stdin",
     "output_type": "stream",
     "text": [
      " we\n"
     ]
    },
    {
     "name": "stdout",
     "output_type": "stream",
     "text": [
      "'we' is not an integer.\n",
      "0\n"
     ]
    }
   ],
   "source": [
    "# inputInt()\n",
    "# prompt='',default=None,blank=False,timeout=None,limit=None,strip=None,allowRegexes=None, blockRegexes=None,\n",
    "# applyFunc=None,postValidateApplyFunc=None,min=None,max=None,lessThan=None,greaterThan=None,\n",
    "inp = pyip.inputInt(prompt = \"Enter the value\", default = 0, limit = 3)\n",
    "print(inp)"
   ]
  },
  {
   "cell_type": "code",
   "execution_count": 8,
   "id": "a4e6dbf5-f898-4a25-acfa-5fb426e5c999",
   "metadata": {},
   "outputs": [
    {
     "name": "stdout",
     "output_type": "stream",
     "text": [
      "Please select one of the following:\n",
      "* apple\n",
      "* banana\n",
      "* mango\n"
     ]
    },
    {
     "name": "stdin",
     "output_type": "stream",
     "text": [
      " apple\n"
     ]
    },
    {
     "name": "stdout",
     "output_type": "stream",
     "text": [
      "apple\n"
     ]
    }
   ],
   "source": [
    "# inputMenu()\n",
    "# prompt='',default=None,blank=False,timeout=None,limit=None,strip=None,allowRegexes=None, blockRegexes=None,\n",
    "# applyFunc=None,postValidateApplyFunc=None,numbered=False,lettered=False,caseSensitive=False,\n",
    "inp = pyip.inputMenu(['apple', 'banana', 'mango'])\n",
    "print(inp)"
   ]
  },
  {
   "cell_type": "code",
   "execution_count": 10,
   "id": "37084136-d28b-40d2-b668-c87c5b3c93c5",
   "metadata": {},
   "outputs": [
    {
     "name": "stdout",
     "output_type": "stream",
     "text": [
      "Enter date and time... "
     ]
    },
    {
     "name": "stdin",
     "output_type": "stream",
     "text": [
      " 03/12/1999 06:06:06\n"
     ]
    },
    {
     "name": "stdout",
     "output_type": "stream",
     "text": [
      "'03/12/1999 06:06:06' is not a valid date and time.\n",
      "Enter date and time... "
     ]
    },
    {
     "name": "stdin",
     "output_type": "stream",
     "text": [
      " 3/4/18 4:32:16\n"
     ]
    },
    {
     "name": "stdout",
     "output_type": "stream",
     "text": [
      "2018-03-04 04:32:16\n"
     ]
    }
   ],
   "source": [
    "# inputDateTime()\n",
    "#\n",
    "inp = pyip.inputDatetime('Enter date and time... ', \n",
    "                         formats = ('%m/%d/%y %H:%M:%S',\n",
    "                                    '%m.%d.%Y %H:%M:%S'))\n",
    "print(inp)"
   ]
  },
  {
   "cell_type": "code",
   "execution_count": null,
   "id": "84f6d9b2-a18a-47fb-94d4-2f87a3af12b3",
   "metadata": {},
   "outputs": [],
   "source": []
  }
 ],
 "metadata": {
  "kernelspec": {
   "display_name": "Python 3 (ipykernel)",
   "language": "python",
   "name": "python3"
  },
  "language_info": {
   "codemirror_mode": {
    "name": "ipython",
    "version": 3
   },
   "file_extension": ".py",
   "mimetype": "text/x-python",
   "name": "python",
   "nbconvert_exporter": "python",
   "pygments_lexer": "ipython3",
   "version": "3.10.6"
  }
 },
 "nbformat": 4,
 "nbformat_minor": 5
}
