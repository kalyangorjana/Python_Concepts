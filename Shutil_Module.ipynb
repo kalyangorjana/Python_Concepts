{
 "cells": [
  {
   "cell_type": "code",
   "execution_count": 1,
   "id": "f20eb58e-478c-4dea-8971-838b5e84d605",
   "metadata": {},
   "outputs": [],
   "source": [
    "import os\n",
    "import shutil"
   ]
  },
  {
   "cell_type": "code",
   "execution_count": null,
   "id": "d821be31-7548-4e7d-a379-a6e8598e3470",
   "metadata": {},
   "outputs": [],
   "source": [
    "# These to modules are used to handle the file and directories"
   ]
  },
  {
   "cell_type": "code",
   "execution_count": 4,
   "id": "cf66d0c9-6c3c-4e17-b378-bb00ec319ac6",
   "metadata": {},
   "outputs": [
    {
     "data": {
      "text/plain": [
       "'/home/jovyan/work/Python'"
      ]
     },
     "execution_count": 4,
     "metadata": {},
     "output_type": "execute_result"
    }
   ],
   "source": [
    "# To get the current working direcotory\n",
    "os.getcwd()"
   ]
  },
  {
   "cell_type": "code",
   "execution_count": null,
   "id": "d13b54d8-ed20-4af2-a93e-35a2271a7787",
   "metadata": {},
   "outputs": [],
   "source": [
    "# to create directory by using os module"
   ]
  },
  {
   "cell_type": "code",
   "execution_count": 3,
   "id": "317c7038-2991-4b37-bdae-3f29bc4349ad",
   "metadata": {},
   "outputs": [],
   "source": [
    "os.mkdir(\"Temp_1\")\n",
    "os.mkdir(\"Temp_2\")"
   ]
  },
  {
   "cell_type": "code",
   "execution_count": 11,
   "id": "77852cef-c31c-496c-870e-fa94fd094f0f",
   "metadata": {},
   "outputs": [
    {
     "data": {
      "text/plain": [
       "<_io.TextIOWrapper name='Temp_2/demo_22.txt' mode='w' encoding='UTF-8'>"
      ]
     },
     "execution_count": 11,
     "metadata": {},
     "output_type": "execute_result"
    }
   ],
   "source": [
    "# To create file in the folder by using os module\n",
    "open(os.path.join(\"Temp_1\",\"demo_11.txt\"),'w')\n",
    "open(os.path.join(\"Temp_2\",\"demo_22.txt\"),'w')"
   ]
  },
  {
   "cell_type": "code",
   "execution_count": null,
   "id": "6decdf47-88db-42c4-875c-2ede6ef827ff",
   "metadata": {},
   "outputs": [],
   "source": [
    "# Copy the content of\n",
    "# source to destination we use shutil.copy()"
   ]
  },
  {
   "cell_type": "code",
   "execution_count": 12,
   "id": "09a7e192-9ce3-482a-ad23-709c3e65e460",
   "metadata": {},
   "outputs": [
    {
     "name": "stdout",
     "output_type": "stream",
     "text": [
      "Destination Directory: Temp_2/demo_1\n"
     ]
    }
   ],
   "source": [
    "source = \"Temp_1/demo_1\"\n",
    "destination = \"Temp_2\"\n",
    "dest = shutil.copy(source, destination)\n",
    "print(f\"Destination Directory: {dest}\")"
   ]
  },
  {
   "cell_type": "code",
   "execution_count": null,
   "id": "b149bf0a-5c33-475b-990e-00153cd9f53b",
   "metadata": {},
   "outputs": [],
   "source": [
    "# Copy the content of\n",
    "# source to destination we use shutil.copy2() -- it also tries to preserve the file’s metadata."
   ]
  },
  {
   "cell_type": "code",
   "execution_count": 13,
   "id": "3cd37256-52af-4b78-815a-e942b34e83ca",
   "metadata": {},
   "outputs": [
    {
     "name": "stdout",
     "output_type": "stream",
     "text": [
      "Before copying the files : ['demo_1', 'demo_2', 'demo_2.txt', 'demo_22.txt']\n",
      "os.stat_result(st_mode=33188, st_ino=5689549, st_dev=66305, st_nlink=1, st_uid=1000, st_gid=100, st_size=0, st_atime=1668677945, st_mtime=1668677851, st_ctime=1668677851)\n",
      "After copying the files : ['demo_1', 'demo_2', 'demo_2.txt', 'demo_22.txt']\n",
      "os.stat_result(st_mode=16877, st_ino=5689716, st_dev=66305, st_nlink=2, st_uid=1000, st_gid=100, st_size=4096, st_atime=1668677949, st_mtime=1668677945, st_ctime=1668677945)\n"
     ]
    }
   ],
   "source": [
    "source = \"Temp_1/demo_1\"\n",
    "destination = \"Temp_2\"\n",
    "\n",
    "print(f\"Before copying the files : {os.listdir('Temp_2')}\")\n",
    "metadata = os.stat(source)\n",
    "print(metadata)\n",
    "\n",
    "des = shutil.copy2(source, destination)\n",
    "print(f\"After copying the files : {os.listdir('Temp_2')}\")\n",
    "metadata = os.stat(destination)\n",
    "print(metadata)"
   ]
  },
  {
   "cell_type": "code",
   "execution_count": null,
   "id": "3576bb80-db1c-4d0e-ab9b-56a9055b009e",
   "metadata": {},
   "outputs": [],
   "source": [
    "# Copying the content of one file to another\n",
    "# shutil.copyfile() method in Python is used to copy the content of the source file to the destination file. \n",
    "# The metadata of the file is not copied."
   ]
  },
  {
   "cell_type": "code",
   "execution_count": 15,
   "id": "dbe6cd21-2f7c-4322-815d-e81c280a37da",
   "metadata": {},
   "outputs": [
    {
     "name": "stdout",
     "output_type": "stream",
     "text": [
      "Destination Directory: Temp_2/demo_3.txt\n"
     ]
    }
   ],
   "source": [
    "source = \"Temp_1/demo_1.txt\"\n",
    "destination = \"Temp_2/demo_3.txt\"\n",
    "dest = shutil.copyfile(source, destination)\n",
    "print(f\"Destination Directory: {dest}\")"
   ]
  },
  {
   "cell_type": "code",
   "execution_count": null,
   "id": "74963883-6f8b-4255-9c8b-a76ff2608ea8",
   "metadata": {},
   "outputs": [],
   "source": [
    "# Replicating complete Directory\n",
    "# shutil.copytree() method recursively copies an entire directory tree rooted at source (src) to the destination directory."
   ]
  },
  {
   "cell_type": "code",
   "execution_count": 16,
   "id": "a6cc5610-b5aa-4f55-a512-f876a52325b3",
   "metadata": {},
   "outputs": [
    {
     "name": "stdout",
     "output_type": "stream",
     "text": [
      "Destination Directory: Temp_3\n"
     ]
    }
   ],
   "source": [
    "source = \"Temp_1\"\n",
    "destination = \"Temp_3\"\n",
    "dest = shutil.copytree(source, destination)\n",
    "print(f\"Destination Directory: {dest}\")"
   ]
  },
  {
   "cell_type": "code",
   "execution_count": null,
   "id": "23f6732a-36e7-4195-9f31-d2066a109b84",
   "metadata": {},
   "outputs": [],
   "source": [
    "# Removing a Directory\n",
    "# shutil.rmtree() is used to delete an entire directory tree, the path must point to a directory"
   ]
  },
  {
   "cell_type": "code",
   "execution_count": 17,
   "id": "b06c7fa3-75ef-4a1c-add2-0bb934bc63c3",
   "metadata": {},
   "outputs": [],
   "source": [
    "shutil.rmtree(\"Temp_3\")"
   ]
  },
  {
   "cell_type": "code",
   "execution_count": null,
   "id": "b165e8b9-cf4d-47d2-94bc-6c613e7d6b91",
   "metadata": {},
   "outputs": [],
   "source": [
    "# Finding files\n",
    "# shutil.which() method tells the path to an executable application that would be run if the given cmd was called. \n",
    "# This method can be used to find a file on a computer which is present on the PATH."
   ]
  },
  {
   "cell_type": "code",
   "execution_count": 23,
   "id": "93a28ca5-c62c-4fd4-8e27-12fa1ee6e5bb",
   "metadata": {},
   "outputs": [
    {
     "name": "stdout",
     "output_type": "stream",
     "text": [
      "/opt/conda/bin/conda\n"
     ]
    }
   ],
   "source": [
    "print(shutil.which(\"conda\"))"
   ]
  },
  {
   "cell_type": "code",
   "execution_count": null,
   "id": "7f04845b-0ef8-42da-8c86-2db04467b31b",
   "metadata": {},
   "outputs": [],
   "source": [
    "# shutil.get_archive_formats() method in Python is used to get the list of supported formats for archiving."
   ]
  },
  {
   "cell_type": "code",
   "execution_count": 25,
   "id": "63c4fd81-fa5e-4a13-99f4-3b4d95200a1c",
   "metadata": {},
   "outputs": [
    {
     "name": "stdout",
     "output_type": "stream",
     "text": [
      "[('bztar', \"bzip2'ed tar-file\"), ('gztar', \"gzip'ed tar-file\"), ('tar', 'uncompressed tar file'), ('xztar', \"xz'ed tar-file\"), ('zip', 'ZIP file')]\n"
     ]
    }
   ],
   "source": [
    "print(shutil.get_archive_formats())"
   ]
  },
  {
   "cell_type": "code",
   "execution_count": null,
   "id": "ef862b06-72fe-46ef-ab9d-0539fa5fd015",
   "metadata": {},
   "outputs": [],
   "source": [
    "# shutil.get_unpack_formats() method in Python is used to get the list of all supported formats available for unpacking archived files."
   ]
  },
  {
   "cell_type": "code",
   "execution_count": 26,
   "id": "cd596791-1d91-416e-b51b-ba5bd1ecbc69",
   "metadata": {},
   "outputs": [
    {
     "name": "stdout",
     "output_type": "stream",
     "text": [
      "[('bztar', ['.tar.bz2', '.tbz2'], \"bzip2'ed tar-file\"), ('gztar', ['.tar.gz', '.tgz'], \"gzip'ed tar-file\"), ('tar', ['.tar'], 'uncompressed tar file'), ('xztar', ['.tar.xz', '.txz'], \"xz'ed tar-file\"), ('zip', ['.zip'], 'ZIP file')]\n"
     ]
    }
   ],
   "source": [
    "print(shutil.get_unpack_formats())"
   ]
  },
  {
   "cell_type": "code",
   "execution_count": null,
   "id": "98dce81c-9913-4d1d-a373-45bbb3d44d50",
   "metadata": {},
   "outputs": [],
   "source": [
    "# shutil.make_archive() method in Python is used to make an archive file."
   ]
  },
  {
   "cell_type": "code",
   "execution_count": 50,
   "id": "6cde3403-6ae3-45bc-8fb0-594aaedab682",
   "metadata": {},
   "outputs": [
    {
     "data": {
      "text/plain": [
       "'/home/jovyan/work/Python/Temp_2.zip'"
      ]
     },
     "execution_count": 50,
     "metadata": {},
     "output_type": "execute_result"
    }
   ],
   "source": [
    "shutil.make_archive( \"Temp_2\",\"zip\",\"Python\")"
   ]
  },
  {
   "cell_type": "code",
   "execution_count": null,
   "id": "d439daa3-4ae0-4843-8af0-29766457d9cf",
   "metadata": {},
   "outputs": [],
   "source": [
    "#shutil.unpack_archive() method in Python is used to unpack an archive file."
   ]
  },
  {
   "cell_type": "code",
   "execution_count": 54,
   "id": "9d4afa45-b994-4137-bcce-4a968d197a72",
   "metadata": {},
   "outputs": [],
   "source": [
    "shutil.unpack_archive(\"/home/jovyan/work/Python/Temp_2.zip\",\"/home/jovyan/work/Python/Temp_1\",\"zip\")"
   ]
  },
  {
   "cell_type": "code",
   "execution_count": null,
   "id": "b6c8f052-6600-476d-8c05-3b9d2a2ea6ea",
   "metadata": {},
   "outputs": [],
   "source": [
    "# shutil.disk_usage() method in Python is to get disk usage statistics about the given path. \n",
    "# This method returns a named tuple with attributes total, used and free. The total attribute \n",
    "# represents the amount of total space, the used attribute represents the amount of used space \n",
    "# and the free attribute represents the amount of available space, in bytes."
   ]
  },
  {
   "cell_type": "code",
   "execution_count": 55,
   "id": "4193f146-5dfa-4eeb-8eaa-f0614f2a9007",
   "metadata": {},
   "outputs": [
    {
     "name": "stdout",
     "output_type": "stream",
     "text": [
      "usage(total=1040442621952, used=101590425600, free=938835419136)\n"
     ]
    }
   ],
   "source": [
    "print(shutil.disk_usage(\"/home/jovyan/work/Python\"))"
   ]
  },
  {
   "cell_type": "code",
   "execution_count": 56,
   "id": "05c8ec74-c564-4add-bc06-effdc2d9ab1b",
   "metadata": {},
   "outputs": [],
   "source": [
    "# shutil.copystat() method in Python is used to copy the permission bits, last access time, last modification time, \n",
    "#and flags value from the given source path to given destination path. "
   ]
  },
  {
   "cell_type": "code",
   "execution_count": null,
   "id": "2cfde860-23a2-4b19-b4ae-ddcacd5a5a7c",
   "metadata": {},
   "outputs": [],
   "source": [
    "# shutil.copymode() method in Python is used to copy the permission bits from the given source path to given destination path. "
   ]
  },
  {
   "cell_type": "code",
   "execution_count": null,
   "id": "b06c789c-ee1f-44c2-8a98-b83f8b3f37dc",
   "metadata": {},
   "outputs": [],
   "source": [
    "shutil.chown()"
   ]
  }
 ],
 "metadata": {
  "kernelspec": {
   "display_name": "Python 3 (ipykernel)",
   "language": "python",
   "name": "python3"
  },
  "language_info": {
   "codemirror_mode": {
    "name": "ipython",
    "version": 3
   },
   "file_extension": ".py",
   "mimetype": "text/x-python",
   "name": "python",
   "nbconvert_exporter": "python",
   "pygments_lexer": "ipython3",
   "version": "3.10.6"
  }
 },
 "nbformat": 4,
 "nbformat_minor": 5
}
