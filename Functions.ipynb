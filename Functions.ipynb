{
 "cells": [
  {
   "cell_type": "code",
   "execution_count": null,
   "id": "2cb59c09-f1d0-4d4f-bcbc-c202a98e9ea5",
   "metadata": {},
   "outputs": [],
   "source": [
    "# we create the functins with \"def\" keyword def = definition\n",
    "# The function syntax\n",
    "def test():\n",
    "    print(\"Kalyan is a data scientist\")\n",
    "    \n",
    "# we need to call the function to execute the function\n",
    "test()"
   ]
  },
  {
   "cell_type": "code",
   "execution_count": null,
   "id": "126c2f95-f656-49a6-9442-306a91519d7c",
   "metadata": {},
   "outputs": [],
   "source": [
    "# when you don't want write any code in the body in the function you can use the \"pass\" key word\n",
    "def test0():\n",
    "    pass"
   ]
  },
  {
   "cell_type": "code",
   "execution_count": null,
   "id": "3bcf1ae9-7ddc-449f-b876-b4a502158dba",
   "metadata": {
    "tags": []
   },
   "outputs": [],
   "source": [
    "def test1():\n",
    "    print(\"This is my very first function in the python\")\n",
    "# we use the funtions to achive the code reusablity.\n",
    "# we can call the function howmany times we want.\n",
    "\n",
    "test1()\n",
    "test1()"
   ]
  },
  {
   "cell_type": "code",
   "execution_count": null,
   "id": "bb06a111-5e5c-43e3-b24d-e4e110681079",
   "metadata": {},
   "outputs": [],
   "source": [
    "# we can store the output of the function in the variable which is return by the function, not which is executed in the funtion\n",
    "def test2():\n",
    "    print(\"This is my very first function in the python\")\n",
    "\n",
    "b = test2()\n",
    "print(b)"
   ]
  },
  {
   "cell_type": "code",
   "execution_count": null,
   "id": "7b6588fe-8776-4a3a-8ec8-ea79e7e0dcc8",
   "metadata": {},
   "outputs": [],
   "source": [
    "def test3():\n",
    "    return \"This is my very first function in the python\"\n",
    "b = test3()\n",
    "print(type(b))\n",
    "print(b)"
   ]
  },
  {
   "cell_type": "code",
   "execution_count": 8,
   "id": "635c73c5-0524-4082-ac8d-f71f794bed88",
   "metadata": {},
   "outputs": [],
   "source": [
    "# you have to follow the python indentation while using the function also\n",
    "def test4():\n",
    "    print(\"Indentation check\")"
   ]
  },
  {
   "cell_type": "code",
   "execution_count": 11,
   "id": "15fc22a2-3df2-4c26-bf45-45b686f4eac5",
   "metadata": {},
   "outputs": [
    {
     "name": "stdout",
     "output_type": "stream",
     "text": [
      "(3, [4, 5], {2, 4, 6}, (2, 4, 5), 3)\n",
      "(2, 4, 5)\n"
     ]
    }
   ],
   "source": [
    "# you can mention mutilple outcomes from one function\n",
    "# if you return multiple return type by default the output type is tuples\n",
    "\n",
    "def test5():\n",
    "    return 3,[4,5],{2,6,4},(2,4,5),3\n",
    "print(test5())\n",
    "print(test5()[3])"
   ]
  },
  {
   "cell_type": "code",
   "execution_count": 13,
   "id": "f09f792d-fde4-4c32-93ba-4c8962cba762",
   "metadata": {},
   "outputs": [
    {
     "name": "stdout",
     "output_type": "stream",
     "text": [
      "3\n",
      "[4, 5]\n",
      "{2, 4, 6}\n",
      "(2, 4, 5)\n"
     ]
    }
   ],
   "source": [
    "# you can assign the retun values to the multiple variables.\n",
    "def test6():\n",
    "    return 3,[4,5],{2,6,4},(2,4,5)\n",
    "\n",
    "a,b,c,d = test6()\n",
    "print(a)\n",
    "print(b)\n",
    "print(c)\n",
    "print(d)"
   ]
  },
  {
   "cell_type": "code",
   "execution_count": 14,
   "id": "f18af269-8b04-49c9-a89f-ead7e4b17b95",
   "metadata": {},
   "outputs": [
    {
     "name": "stdout",
     "output_type": "stream",
     "text": [
      "14\n"
     ]
    }
   ],
   "source": [
    "# we can perform the operations in the return statement\n",
    "# it will pass the parameter in a sequnecal manner\n",
    "def test7(a,b):\n",
    "    return a+b\n",
    "\n",
    "print(test7(6,8))"
   ]
  },
  {
   "cell_type": "code",
   "execution_count": 16,
   "id": "78cbaf01-8198-4f24-9be3-4cbb7308d90f",
   "metadata": {},
   "outputs": [
    {
     "name": "stdout",
     "output_type": "stream",
     "text": [
      "14\n"
     ]
    }
   ],
   "source": [
    "# we can re arrange the paramenter sequence\n",
    "def test7(a,b):\n",
    "    return a+b\n",
    "\n",
    "print(test7(b = 6,a = 8))"
   ]
  },
  {
   "cell_type": "code",
   "execution_count": null,
   "id": "927ca757-ea61-45fa-b8da-dff2150a5322",
   "metadata": {},
   "outputs": [],
   "source": [
    "# we can use the Docstring to add description about our function\n",
    "def test8(a,b):\n",
    "    \"\"\" It will give the addition of the two variables \"\"\"\n",
    "    return a+b\n",
    "\n",
    "print(test8(6,8))"
   ]
  },
  {
   "cell_type": "code",
   "execution_count": null,
   "id": "64b89149-327e-4269-b67d-5680b2b36f3f",
   "metadata": {},
   "outputs": [],
   "source": [
    "##################\n",
    "## Second Class ##\n",
    "##################"
   ]
  },
  {
   "cell_type": "code",
   "execution_count": 1,
   "id": "58edd5b2-d9b9-4fb4-b492-9bec6753248c",
   "metadata": {},
   "outputs": [
    {
     "name": "stdout",
     "output_type": "stream",
     "text": [
      "(1, 56, 'kalyan')\n"
     ]
    }
   ],
   "source": [
    "# To pass multiple values as input to the function.\n",
    "# we will use the \"*\" for that\n",
    "# *args means (0 to N)\n",
    "def test_1(*args):\n",
    "    return args\n",
    "\n",
    "print(test_1(1,56,\"kalyan\"))\n",
    "\n",
    "## The inputs taken as the tuple"
   ]
  },
  {
   "cell_type": "code",
   "execution_count": 4,
   "id": "41450b85-ac30-4405-9bbc-332e1a821de2",
   "metadata": {},
   "outputs": [
    {
     "name": "stdout",
     "output_type": "stream",
     "text": [
      "{'kalyan': 56, 'Gorjana': 78}\n"
     ]
    }
   ],
   "source": [
    "# To pass multiple values along with keywords as input of the function we will use the \"**\" along with name\n",
    "def test_2(**kwargs):\n",
    "    return kwargs\n",
    "print(test_2(kalyan = 56, Gorjana = 78))"
   ]
  },
  {
   "cell_type": "code",
   "execution_count": 11,
   "id": "2ce4b7b3-42eb-4816-be27-c3253125dd15",
   "metadata": {},
   "outputs": [
    {
     "name": "stdout",
     "output_type": "stream",
     "text": [
      "Testing\n"
     ]
    }
   ],
   "source": [
    "# Function in the function(Nested function)\n",
    "# you can all one function in any other funtion\n",
    "def test_3(a):\n",
    "    return a\n",
    "def test_4():\n",
    "    return \"Kalyan\"\n",
    "def test_5(fun):\n",
    "    return fun(\"Testing\")\n",
    "print(test_5(test_3))"
   ]
  },
  {
   "cell_type": "code",
   "execution_count": 17,
   "id": "ac9aca79-c7e7-4c6a-8b5b-60a80cb35e51",
   "metadata": {},
   "outputs": [
    {
     "name": "stdout",
     "output_type": "stream",
     "text": [
      "Data Scientist\n",
      "Kalyan\n"
     ]
    }
   ],
   "source": [
    "# you are not suppose to call the inner function directly\n",
    "def test_6(a):\n",
    "    print(\"Data Scientist\")\n",
    "    def test_7():\n",
    "        print(\"Kalyan\")\n",
    "    def test_8():\n",
    "        print(\"Gorjana\")\n",
    "    if a == \"Kalyan\":\n",
    "        return test_7()\n",
    "    elif a == \"Goirjana\":\n",
    "        return test_8()\n",
    "test_6(\"Kalyan\")"
   ]
  }
 ],
 "metadata": {
  "kernelspec": {
   "display_name": "Python 3 (ipykernel)",
   "language": "python",
   "name": "python3"
  },
  "language_info": {
   "codemirror_mode": {
    "name": "ipython",
    "version": 3
   },
   "file_extension": ".py",
   "mimetype": "text/x-python",
   "name": "python",
   "nbconvert_exporter": "python",
   "pygments_lexer": "ipython3",
   "version": "3.10.6"
  }
 },
 "nbformat": 4,
 "nbformat_minor": 5
}
