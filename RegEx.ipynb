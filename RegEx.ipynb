{
 "cells": [
  {
   "cell_type": "code",
   "execution_count": 12,
   "id": "79bd8cc9-67ff-43db-83dd-39eb78292760",
   "metadata": {},
   "outputs": [],
   "source": [
    "# From the assignment\n",
    "import re\n",
    "phone_number = re.compile(r'(\\d\\d\\d)-(\\d\\d\\d-\\d\\d\\d\\d)',re.I)\n",
    "mo = phone_number.search(\"My Number is 456-342-7878\")"
   ]
  },
  {
   "cell_type": "code",
   "execution_count": 11,
   "id": "d144a3fa-9f07-4141-972f-d9e7e9a3d49c",
   "metadata": {},
   "outputs": [
    {
     "name": "stdout",
     "output_type": "stream",
     "text": [
      "('456', '342-7878')\n"
     ]
    }
   ],
   "source": [
    "print(mo.groups())"
   ]
  },
  {
   "cell_type": "code",
   "execution_count": 5,
   "id": "8398a60d-36ed-44d0-84a3-9e4e4fa38689",
   "metadata": {},
   "outputs": [
    {
     "name": "stdout",
     "output_type": "stream",
     "text": [
      "456-342-7878\n"
     ]
    }
   ],
   "source": [
    "print(mo.group(0))"
   ]
  },
  {
   "cell_type": "code",
   "execution_count": 6,
   "id": "16e239fc-35fe-4d33-bb7b-80e7a4ee1109",
   "metadata": {},
   "outputs": [
    {
     "name": "stdout",
     "output_type": "stream",
     "text": [
      "456\n"
     ]
    }
   ],
   "source": [
    "print(mo.group(1))"
   ]
  },
  {
   "cell_type": "code",
   "execution_count": 7,
   "id": "65757730-2078-4247-bf32-6393431778f5",
   "metadata": {},
   "outputs": [
    {
     "data": {
      "text/plain": [
       "'342-7878'"
      ]
     },
     "execution_count": 7,
     "metadata": {},
     "output_type": "execute_result"
    }
   ],
   "source": [
    "mo.group(2)"
   ]
  },
  {
   "cell_type": "code",
   "execution_count": 14,
   "id": "900b6fd5-b13c-4883-93e4-28bc4686106b",
   "metadata": {},
   "outputs": [
    {
     "data": {
      "text/plain": [
       "'X drummers, X pipers, five rings, X hen'"
      ]
     },
     "execution_count": 14,
     "metadata": {},
     "output_type": "execute_result"
    }
   ],
   "source": [
    "numReg = re.compile(r'\\d+')\n",
    "numReg.sub('X', '11 drummers, 10 pipers, five rings, 4 hen')"
   ]
  },
  {
   "cell_type": "code",
   "execution_count": 17,
   "id": "66889af6-2814-4cec-93dc-81accef89836",
   "metadata": {},
   "outputs": [
    {
     "ename": "AttributeError",
     "evalue": "'NoneType' object has no attribute 'groups'",
     "output_type": "error",
     "traceback": [
      "\u001b[0;31m---------------------------------------------------------------------------\u001b[0m",
      "\u001b[0;31mAttributeError\u001b[0m                            Traceback (most recent call last)",
      "Cell \u001b[0;32mIn [17], line 3\u001b[0m\n\u001b[1;32m      1\u001b[0m match \u001b[38;5;241m=\u001b[39m re\u001b[38;5;241m.\u001b[39mcompile(\u001b[38;5;124mr\u001b[39m\u001b[38;5;124m'\u001b[39m\u001b[38;5;124m[A-Z][a-z]*\u001b[39m\u001b[38;5;124m\\\u001b[39m\u001b[38;5;124msWatanabe\u001b[39m\u001b[38;5;124m'\u001b[39m)\n\u001b[1;32m      2\u001b[0m mo \u001b[38;5;241m=\u001b[39m match\u001b[38;5;241m.\u001b[39msearch(\u001b[38;5;124m'\u001b[39m\u001b[38;5;124mMR.Watanabe\u001b[39m\u001b[38;5;124m'\u001b[39m)\n\u001b[0;32m----> 3\u001b[0m \u001b[38;5;28mprint\u001b[39m(\u001b[43mmo\u001b[49m\u001b[38;5;241;43m.\u001b[39;49m\u001b[43mgroups\u001b[49m())\n",
      "\u001b[0;31mAttributeError\u001b[0m: 'NoneType' object has no attribute 'groups'"
     ]
    }
   ],
   "source": [
    "match = re.compile(r'[A-Z][a-z]*\\sWatanabe')\n",
    "mo = match.search('MR.Watanabe')\n",
    "print(mo.groups())"
   ]
  },
  {
   "cell_type": "code",
   "execution_count": null,
   "id": "9d508862-a285-4172-a9da-526d8978d4f6",
   "metadata": {},
   "outputs": [],
   "source": []
  }
 ],
 "metadata": {
  "kernelspec": {
   "display_name": "Python 3 (ipykernel)",
   "language": "python",
   "name": "python3"
  },
  "language_info": {
   "codemirror_mode": {
    "name": "ipython",
    "version": 3
   },
   "file_extension": ".py",
   "mimetype": "text/x-python",
   "name": "python",
   "nbconvert_exporter": "python",
   "pygments_lexer": "ipython3",
   "version": "3.10.6"
  }
 },
 "nbformat": 4,
 "nbformat_minor": 5
}
