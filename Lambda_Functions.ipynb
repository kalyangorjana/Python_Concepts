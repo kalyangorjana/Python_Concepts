{
 "cells": [
  {
   "cell_type": "code",
   "execution_count": null,
   "id": "64339ed8-05e0-4219-8db9-469c08433ee0",
   "metadata": {},
   "outputs": [],
   "source": [
    "## Lambda function or anonymous function"
   ]
  },
  {
   "cell_type": "code",
   "execution_count": 2,
   "id": "dc070eb2-9a27-4de3-bd8c-0a9196808559",
   "metadata": {},
   "outputs": [],
   "source": [
    "# Normal Function\n",
    "def test(a,b):\n",
    "    return a+b"
   ]
  },
  {
   "cell_type": "code",
   "execution_count": 3,
   "id": "4c87f962-ecef-45d6-a7f3-ca365fd3ab0f",
   "metadata": {},
   "outputs": [
    {
     "data": {
      "text/plain": [
       "<function __main__.<lambda>(a, b)>"
      ]
     },
     "execution_count": 3,
     "metadata": {},
     "output_type": "execute_result"
    }
   ],
   "source": [
    "# Lambda function (we can create lamda function by using lambda keyword)\n",
    "lambda a, b: a+b"
   ]
  },
  {
   "cell_type": "code",
   "execution_count": 5,
   "id": "c88c506b-1d50-48ce-b9c3-364fe966be41",
   "metadata": {},
   "outputs": [
    {
     "data": {
      "text/plain": [
       "<function __main__.test(a, b)>"
      ]
     },
     "execution_count": 5,
     "metadata": {},
     "output_type": "execute_result"
    }
   ],
   "source": [
    "# these two method give the similar output\n",
    "test"
   ]
  },
  {
   "cell_type": "code",
   "execution_count": 10,
   "id": "1660587d-4e3f-4a5f-8a25-d87f4fa0225e",
   "metadata": {},
   "outputs": [],
   "source": [
    "# we can assign a lambda function to varibale\n",
    "z = lambda x, y : x + y"
   ]
  },
  {
   "cell_type": "code",
   "execution_count": 12,
   "id": "0a36b781-8b58-427d-8572-2846741b58a5",
   "metadata": {},
   "outputs": [
    {
     "name": "stdout",
     "output_type": "stream",
     "text": [
      "11\n"
     ]
    }
   ],
   "source": [
    "print(z(5,6))"
   ]
  }
 ],
 "metadata": {
  "kernelspec": {
   "display_name": "Python 3 (ipykernel)",
   "language": "python",
   "name": "python3"
  },
  "language_info": {
   "codemirror_mode": {
    "name": "ipython",
    "version": 3
   },
   "file_extension": ".py",
   "mimetype": "text/x-python",
   "name": "python",
   "nbconvert_exporter": "python",
   "pygments_lexer": "ipython3",
   "version": "3.10.6"
  }
 },
 "nbformat": 4,
 "nbformat_minor": 5
}
