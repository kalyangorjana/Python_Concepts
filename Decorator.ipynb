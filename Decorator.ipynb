{
 "cells": [
  {
   "cell_type": "code",
   "execution_count": null,
   "id": "1435a4bf-e672-4fd8-869a-0f06d6d04808",
   "metadata": {},
   "outputs": [],
   "source": [
    "# Decorator example\n",
    "import os\n",
    "def test_0(fun):\n",
    "    def test_01():\n",
    "        print(\"This is a decorator function\")\n",
    "        print(os.getcwd())\n",
    "        fun()\n",
    "    return(test_01)"
   ]
  },
  {
   "cell_type": "code",
   "execution_count": null,
   "id": "0659023c-3d3a-4135-b343-694dbe38a99e",
   "metadata": {},
   "outputs": [],
   "source": [
    "@test_0\n",
    "def test_1():\n",
    "    print(\"This is test_1 function\")"
   ]
  },
  {
   "cell_type": "code",
   "execution_count": null,
   "id": "dabe41f0-4be7-4feb-9072-1d42e392903b",
   "metadata": {},
   "outputs": [],
   "source": [
    "test_1()"
   ]
  },
  {
   "cell_type": "code",
   "execution_count": null,
   "id": "c0a23abc-75f5-4277-b2e6-75c85c755800",
   "metadata": {},
   "outputs": [],
   "source": [
    "def test_2(func):\n",
    "    def test_3():\n",
    "        func()\n",
    "        print(os.getcwd())\n",
    "    return test_3"
   ]
  },
  {
   "cell_type": "code",
   "execution_count": null,
   "id": "2334bbff-f8ec-4fb2-8098-cf9267016520",
   "metadata": {},
   "outputs": [],
   "source": [
    "@test_0\n",
    "@test_2\n",
    "def test_4():\n",
    "    print(\"This is test_4\")"
   ]
  },
  {
   "cell_type": "code",
   "execution_count": null,
   "id": "44c95ec1-10a4-449e-a424-4233b8b82156",
   "metadata": {},
   "outputs": [],
   "source": [
    "test_4()"
   ]
  },
  {
   "cell_type": "code",
   "execution_count": null,
   "id": "28890743-9507-4696-a3e3-04c640f3b8b0",
   "metadata": {},
   "outputs": [],
   "source": [
    "import time\n",
    "def run_time(fun):\n",
    "    def test():\n",
    "        start = time.time()\n",
    "        fun()\n",
    "        end = time.time()\n",
    "        print(end - start)\n",
    "    return test"
   ]
  },
  {
   "cell_type": "code",
   "execution_count": null,
   "id": "a3a4e7fd-e92a-4bde-95f9-9f71533446a2",
   "metadata": {},
   "outputs": [],
   "source": [
    "@run_time\n",
    "def list_add():\n",
    "    sum = 0\n",
    "    l = [1,3,5,4,6,7]\n",
    "    for i in l:\n",
    "        sum += i\n",
    "    return sum"
   ]
  },
  {
   "cell_type": "code",
   "execution_count": null,
   "id": "6060239f-ce4a-41c2-9041-1a663bb4c183",
   "metadata": {},
   "outputs": [],
   "source": [
    "list_add()"
   ]
  },
  {
   "cell_type": "code",
   "execution_count": null,
   "id": "57bdbb48-f679-4db7-9057-7a32acc8af0f",
   "metadata": {},
   "outputs": [],
   "source": [
    "################\n",
    "##Second Class##\n",
    "################"
   ]
  },
  {
   "cell_type": "code",
   "execution_count": 25,
   "id": "2c4abf36-bb77-4f22-b9ff-b7378d7945c6",
   "metadata": {},
   "outputs": [],
   "source": [
    "## This the usage of the Decorator\n",
    "def test1(func):\n",
    "    def test2():\n",
    "        print(\"I am inside the test2\")\n",
    "        func()\n",
    "        print(\"Function Executed\")\n",
    "    return test2"
   ]
  },
  {
   "cell_type": "code",
   "execution_count": 26,
   "id": "513b23b6-7e87-417b-827f-d48a32d5fe5e",
   "metadata": {},
   "outputs": [],
   "source": [
    "@test1\n",
    "def test3():\n",
    "    print(\"This is my test3\")"
   ]
  },
  {
   "cell_type": "code",
   "execution_count": 27,
   "id": "ad8eda31-53a9-4fc9-92c7-a51a8b172b7f",
   "metadata": {},
   "outputs": [
    {
     "name": "stdout",
     "output_type": "stream",
     "text": [
      "I am inside the test2\n",
      "This is my test3\n",
      "Function Executed\n"
     ]
    }
   ],
   "source": [
    "test3()"
   ]
  },
  {
   "cell_type": "code",
   "execution_count": 28,
   "id": "3a396874-0e3a-4d8a-967d-4fb0a6bbb44f",
   "metadata": {},
   "outputs": [
    {
     "data": {
      "text/plain": [
       "int"
      ]
     },
     "execution_count": 28,
     "metadata": {},
     "output_type": "execute_result"
    }
   ],
   "source": [
    "# The normal method gives you the return type\n",
    "def test3():\n",
    "    return 5+6\n",
    "type(test3())"
   ]
  },
  {
   "cell_type": "code",
   "execution_count": 29,
   "id": "214a5fd6-ac18-40f7-a442-112f80d602f5",
   "metadata": {},
   "outputs": [],
   "source": [
    "# But the method with decorator is give the none type \n",
    "def test1(func):\n",
    "    def test2():\n",
    "        print(\"I am inside the test2\")\n",
    "        func()\n",
    "        print(\"Function Executed\")\n",
    "    return test2"
   ]
  },
  {
   "cell_type": "code",
   "execution_count": 30,
   "id": "92fc2e12-185f-4189-a6f1-10206901ab2d",
   "metadata": {},
   "outputs": [],
   "source": [
    "@test1\n",
    "def test3():\n",
    "    print(\"This is my test3\")"
   ]
  },
  {
   "cell_type": "code",
   "execution_count": 32,
   "id": "4c538f76-d830-46fc-affe-b9f4e22cfa69",
   "metadata": {},
   "outputs": [
    {
     "name": "stdout",
     "output_type": "stream",
     "text": [
      "I am inside the test2\n",
      "This is my test3\n",
      "Function Executed\n"
     ]
    },
    {
     "data": {
      "text/plain": [
       "NoneType"
      ]
     },
     "execution_count": 32,
     "metadata": {},
     "output_type": "execute_result"
    }
   ],
   "source": [
    "type(test3())"
   ]
  },
  {
   "cell_type": "code",
   "execution_count": 43,
   "id": "0b1e8112-0cb1-440d-a40e-820772f0c8c7",
   "metadata": {},
   "outputs": [],
   "source": [
    "# Problem Case(How to get the return type as integer for decorated function)\n",
    "def test1(func):\n",
    "    def test2():\n",
    "        print(\"I am inside the test2\")\n",
    "        func()\n",
    "        print(func())\n",
    "        print(\"Function Executed\")\n",
    "        return func()\n",
    "    return test2"
   ]
  },
  {
   "cell_type": "code",
   "execution_count": 44,
   "id": "fa59593f-15b1-4c43-b5a7-b92bcc0ba8b4",
   "metadata": {},
   "outputs": [],
   "source": [
    "@test1\n",
    "def test3():\n",
    "    return 5+6"
   ]
  },
  {
   "cell_type": "code",
   "execution_count": 45,
   "id": "9566efec-3f69-4e0e-afe5-b119f39a27ee",
   "metadata": {},
   "outputs": [
    {
     "name": "stdout",
     "output_type": "stream",
     "text": [
      "I am inside the test2\n",
      "11\n",
      "Function Executed\n",
      "I am inside the test2\n",
      "11\n",
      "Function Executed\n"
     ]
    },
    {
     "data": {
      "text/plain": [
       "int"
      ]
     },
     "execution_count": 45,
     "metadata": {},
     "output_type": "execute_result"
    }
   ],
   "source": [
    "test3()\n",
    "type(test3())"
   ]
  },
  {
   "cell_type": "code",
   "execution_count": 77,
   "id": "aed5ca57-85fc-4fdc-a457-66c5eb983b37",
   "metadata": {},
   "outputs": [],
   "source": [
    "# probelm (Giving Parameters)\n",
    "def test1(func):\n",
    "    def test2(c,d):\n",
    "        print(\"I am inside the test2\")\n",
    "        print(\"Function Executed\")\n",
    "        return func(c,d)\n",
    "    return test2"
   ]
  },
  {
   "cell_type": "code",
   "execution_count": 78,
   "id": "f19193a3-ecfe-4340-8d9d-d68b2f4af5e9",
   "metadata": {},
   "outputs": [],
   "source": [
    "@test1\n",
    "def test3(a, b):\n",
    "    return a+b"
   ]
  },
  {
   "cell_type": "code",
   "execution_count": 79,
   "id": "b692e1f2-bdce-45b0-a1e0-5bb020f5fa88",
   "metadata": {},
   "outputs": [
    {
     "name": "stdout",
     "output_type": "stream",
     "text": [
      "I am inside the test2\n",
      "Function Executed\n"
     ]
    },
    {
     "data": {
      "text/plain": [
       "9"
      ]
     },
     "execution_count": 79,
     "metadata": {},
     "output_type": "execute_result"
    }
   ],
   "source": [
    "test3(4,5)"
   ]
  },
  {
   "cell_type": "code",
   "execution_count": 84,
   "id": "2e99b6b1-1af9-4d78-b947-edfdd5c65dec",
   "metadata": {},
   "outputs": [],
   "source": [
    "# probelm (Giving multiple Parameters)\n",
    "def test1(func):\n",
    "    def test2(*c):\n",
    "        print(\"I am inside the test2\")\n",
    "        print(\"Function Executed\")\n",
    "        return func(*c)\n",
    "    return test2"
   ]
  },
  {
   "cell_type": "code",
   "execution_count": 85,
   "id": "e527c2b0-388c-4dd6-887c-82c36272f237",
   "metadata": {},
   "outputs": [],
   "source": [
    "@test1\n",
    "def test3(a, b,c):\n",
    "    return a+b+c"
   ]
  },
  {
   "cell_type": "code",
   "execution_count": 86,
   "id": "ea8e3a25-290d-48c6-9fb5-11e22c820cb6",
   "metadata": {},
   "outputs": [
    {
     "name": "stdout",
     "output_type": "stream",
     "text": [
      "I am inside the test2\n",
      "Function Executed\n"
     ]
    },
    {
     "data": {
      "text/plain": [
       "15"
      ]
     },
     "execution_count": 86,
     "metadata": {},
     "output_type": "execute_result"
    }
   ],
   "source": [
    "test3(4,5,6)"
   ]
  },
  {
   "cell_type": "code",
   "execution_count": 93,
   "id": "729dfb90-baf8-491a-8f79-0fc1aa9bbc39",
   "metadata": {},
   "outputs": [],
   "source": [
    "# Test\n",
    "def test1(func):\n",
    "    def test2(*c):\n",
    "        print(\"I am inside the test2\")\n",
    "        print(\"Function Executed\")\n",
    "        return func(*c)\n",
    "    return test2"
   ]
  },
  {
   "cell_type": "code",
   "execution_count": 94,
   "id": "ba630e52-d10e-4550-92ac-90f33c442a38",
   "metadata": {},
   "outputs": [],
   "source": [
    "@test1\n",
    "def test3(a, b,c):\n",
    "    return a+b+c"
   ]
  },
  {
   "cell_type": "code",
   "execution_count": 95,
   "id": "ace97b1c-06fd-4896-874a-32b002e7a90d",
   "metadata": {},
   "outputs": [
    {
     "name": "stdout",
     "output_type": "stream",
     "text": [
      "I am inside the test2\n",
      "Function Executed\n"
     ]
    },
    {
     "data": {
      "text/plain": [
       "18"
      ]
     },
     "execution_count": 95,
     "metadata": {},
     "output_type": "execute_result"
    }
   ],
   "source": [
    "test3(5,6,7)"
   ]
  },
  {
   "cell_type": "code",
   "execution_count": 96,
   "id": "c81e4979-51ce-499d-8d47-33865246a13f",
   "metadata": {},
   "outputs": [],
   "source": [
    "# To pass keyword arguments\n",
    "def test1(func):\n",
    "    def test2(*c,**d):\n",
    "        print(\"I am inside the test2\")\n",
    "        print(\"Function Executed\")\n",
    "        return func(*c,**d)\n",
    "    return test2"
   ]
  },
  {
   "cell_type": "code",
   "execution_count": 97,
   "id": "9dc67353-88f1-4ab2-bbf6-ba1f5802873a",
   "metadata": {},
   "outputs": [],
   "source": [
    "@test1\n",
    "def test3(**args):\n",
    "    return args"
   ]
  },
  {
   "cell_type": "code",
   "execution_count": 98,
   "id": "ada96908-a481-4a54-b672-3339c80ec415",
   "metadata": {},
   "outputs": [
    {
     "name": "stdout",
     "output_type": "stream",
     "text": [
      "I am inside the test2\n",
      "Function Executed\n"
     ]
    },
    {
     "data": {
      "text/plain": [
       "{'a': 10, 'b': 12}"
      ]
     },
     "execution_count": 98,
     "metadata": {},
     "output_type": "execute_result"
    }
   ],
   "source": [
    "test3(a = 10, b = 12)"
   ]
  }
 ],
 "metadata": {
  "kernelspec": {
   "display_name": "Python 3 (ipykernel)",
   "language": "python",
   "name": "python3"
  },
  "language_info": {
   "codemirror_mode": {
    "name": "ipython",
    "version": 3
   },
   "file_extension": ".py",
   "mimetype": "text/x-python",
   "name": "python",
   "nbconvert_exporter": "python",
   "pygments_lexer": "ipython3",
   "version": "3.10.6"
  }
 },
 "nbformat": 4,
 "nbformat_minor": 5
}
